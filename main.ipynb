{
 "cells": [
  {
   "cell_type": "code",
   "execution_count": 2,
   "metadata": {},
   "outputs": [
    {
     "name": "stderr",
     "output_type": "stream",
     "text": [
      "2024-10-22 11:14:59,620 - INFO - Using model gemini-1.5-flash\n",
      "2024-10-22 11:14:59,622 - INFO - Requesting page (first: True, try: 0): https://export.arxiv.org/api/query?search_query=exoplanet+AND+%28demographics%29&id_list=&sortBy=submittedDate&sortOrder=descending&start=0&max_results=100\n",
      "2024-10-22 11:15:01,051 - INFO - Got first page: 100 of 122 total results\n",
      "2024-10-22 11:15:01,052 - INFO - Processing paper: Estimating Exoplanet Mass using Machine Learning on Incomplete Datasets\n"
     ]
    },
    {
     "name": "stdout",
     "output_type": "stream",
     "text": [
      "Title: Estimating Exoplanet Mass using Machine Learning on Incomplete Datasets\n",
      "Authors: Florian Lalande, Elizabeth Tasker, Kenji Doya\n",
      "--------------------------------------------------------------------------------\n",
      "Here is a summary of the paper in 10 bullet points:  * **The exoplanet archive\n",
      "is a valuable resource for studying extrasolar planets, but it is limited by the\n",
      "number of missing values.**  [self-reviewed] * **Planet mass is a particularly\n",
      "challenging property to measure, with over 70% of discovered planets lacking a\n",
      "measured value.**  [self-reviewed] * **The paper investigates the ability of\n",
      "five machine learning algorithms to impute missing planet mass values.**  [self-\n",
      "reviewed] * **The algorithms are tested on three datasets: a complete dataset\n",
      "with six planet properties, a full archive dataset with six properties\n",
      "(including incomplete data), and an extended dataset with eight properties.**\n",
      "[self-reviewed] * **The <math alttext=\"k\" class=\"ltx_Math\"\n",
      "display=\"inline\"><semantics><mi>k</mi><annotation-xml encoding=\"MathML-\n",
      "Content\"><ci>𝑘</ci></annotation-xml><annotation\n",
      "encoding=\"application/x-tex\">k</annotation><annotation encoding=\"application/x-\n",
      "llamapun\">italic_k</annotation></semantics></math>NN<math alttext=\"\\times\"\n",
      "class=\"ltx_Math\" display=\"inline\"><semantics><mo>×</mo><annotation-xml\n",
      "encoding=\"MathML-Content\"><times></times></annotation-xml><annotation\n",
      "encoding=\"application/x-tex\">\\times</annotation><annotation\n",
      "encoding=\"application/x-llamapun\">×</annotation></semantics></math>KDE algorithm\n",
      "consistently performs well across all datasets.**  [self-reviewed] * **The <math\n",
      "alttext=\"k\" class=\"ltx_Math\" display=\"inline\"><semantics><mi>k</mi><annotation-\n",
      "xml encoding=\"MathML-Content\"><ci>𝑘</ci></annotation-xml><annotation\n",
      "encoding=\"application/x-tex\">k</annotation><annotation encoding=\"application/x-\n",
      "llamapun\">italic_k</annotation></semantics></math>NN<math alttext=\"\\times\"\n",
      "class=\"ltx_Math\" display=\"inline\"><semantics><mo>×</mo><annotation-xml\n",
      "encoding=\"MathML-Content\"><times></times></annotation-xml><annotation\n",
      "encoding=\"application/x-tex\">\\times</annotation><annotation\n",
      "encoding=\"application/x-llamapun\">×</annotation></semantics></math>KDE algorithm\n",
      "is capable of returning a probability distribution for the imputed properties,\n",
      "which can indicate the algorithm's confidence and reveal information about the\n",
      "planet population.**  [self-reviewed] * **The paper shows that imputation\n",
      "results improve with more data, even when the additional data is incomplete.**\n",
      "[self-reviewed] * **The paper also demonstrates how the <math alttext=\"k\"\n",
      "class=\"ltx_Math\" display=\"inline\"><semantics><mi>k</mi><annotation-xml\n",
      "encoding=\"MathML-Content\"><ci>𝑘</ci></annotation-xml><annotation\n",
      "encoding=\"application/x-tex\">k</annotation><annotation encoding=\"application/x-\n",
      "llamapun\">italic_k</annotation></semantics></math>NN<math alttext=\"\\times\"\n",
      "class=\"ltx_Math\" display=\"inline\"><semantics><mo>×</mo><annotation-xml\n",
      "encoding=\"MathML-Content\"><times></times></annotation-xml><annotation\n",
      "encoding=\"application/x-tex\">\\times</annotation><annotation\n",
      "encoding=\"application/x-llamapun\">×</annotation></semantics></math>KDE algorithm\n",
      "can be used to create a large synthetic population of planets.**  [self-\n",
      "reviewed] * **The synthetic planet population can be used to identify potential\n",
      "categories of planets from groups of properties in the multidimensional space.**\n",
      "[self-reviewed] * **The paper concludes that machine learning methods can be\n",
      "valuable tools for overcoming the limitations of incomplete datasets in\n",
      "exoplanet research.**  [self-reviewed]\n",
      "================================================================================\n"
     ]
    }
   ],
   "source": [
    "import summarAIzer as sa\n",
    "\n",
    "field='exoplanet'\n",
    "optional_keywords=['demographics']\n",
    "sa.main(field,\n",
    "        optional_keywords, \n",
    "        max_results=1, \n",
    "        used_model='gemini-1.5-flash', # choose your model\n",
    "        API_KEY=None, # Get your API key from https://aistudio.google.com/app/apikey\n",
    "        )"
   ]
  },
  {
   "cell_type": "code",
   "execution_count": null,
   "metadata": {},
   "outputs": [],
   "source": []
  }
 ],
 "metadata": {
  "kernelspec": {
   "display_name": "base",
   "language": "python",
   "name": "python3"
  },
  "language_info": {
   "codemirror_mode": {
    "name": "ipython",
    "version": 3
   },
   "file_extension": ".py",
   "mimetype": "text/x-python",
   "name": "python",
   "nbconvert_exporter": "python",
   "pygments_lexer": "ipython3",
   "version": "3.12.2"
  }
 },
 "nbformat": 4,
 "nbformat_minor": 2
}
