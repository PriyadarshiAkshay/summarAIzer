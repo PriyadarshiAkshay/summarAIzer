{
 "cells": [
  {
   "cell_type": "code",
   "execution_count": 1,
   "metadata": {},
   "outputs": [
    {
     "name": "stderr",
     "output_type": "stream",
     "text": [
      "/home/a/miniconda3/lib/python3.12/site-packages/tqdm/auto.py:21: TqdmWarning: IProgress not found. Please update jupyter and ipywidgets. See https://ipywidgets.readthedocs.io/en/stable/user_install.html\n",
      "  from .autonotebook import tqdm as notebook_tqdm\n",
      "2024-10-28 21:43:47,885 - INFO - Requesting page (first: True, try: 0): https://export.arxiv.org/api/query?search_query=exoplanet+AND+%28demographics%29&id_list=&sortBy=submittedDate&sortOrder=descending&start=0&max_results=100\n",
      "2024-10-28 21:43:50,088 - INFO - Got first page: 100 of 123 total results\n",
      "2024-10-28 21:43:50,092 - INFO - Using model gemini-1.5-flash\n",
      "2024-10-28 21:43:50,096 - INFO - Processing paper: Reading Between the Rainbows: Comparative Exoplanet Characterisation through Molecule Agnostic Spectral Clustering\n"
     ]
    },
    {
     "name": "stdout",
     "output_type": "stream",
     "text": [
      "Found 1 papers.\n",
      "Title: Reading Between the Rainbows: Comparative Exoplanet Characterisation through Molecule Agnostic Spectral Clustering\n",
      "Authors: Ilyana A. Guez, Mark Claire\n",
      "--------------------------------------------------------------------------------\n"
     ]
    },
    {
     "name": "stderr",
     "output_type": "stream",
     "text": [
      "WARNING: All log messages before absl::InitializeLog() is called are written to STDERR\n",
      "I0000 00:00:1730151830.792167   15831 config.cc:230] gRPC experiments enabled: call_status_override_on_cancellation, event_engine_dns, event_engine_listener, http2_stats_fix, monitoring_experiment, pick_first_new, trace_record_callops, work_serializer_clears_time_cache\n"
     ]
    },
    {
     "data": {
      "text/markdown": [
       "## Summary Analysis: \n",
       "\n",
       "**Reasonably supported bullet points:**\n",
       "\n",
       "* **The paper presents a new method for characterizing exoplanet atmospheres called \"Molecule Agnostic Spectral Clustering\" (MASC).** [Accuracy: 5/5]\n",
       "* **The study uses 42 synthetic transit transmission spectra from the Virtual Planetary Laboratory Spectral Explorer (VPLSE).** [Accuracy: 5/5]\n",
       "* **The spectra are divided into bands, and the enclosed areas within these bands are compared to find patterns.** [Accuracy: 5/5]\n",
       "* **The HDBSCAN clustering algorithm is used to identify clusters in the data based on density.** [Accuracy: 5/5]\n",
       "* **The method was tested with different resolutions, and it was found that a resolving power of R∼similar-to\\sim∼300 is necessary for useful results.** [Accuracy: 5/5]\n",
       "* **MASC successfully identifies clusters that correlate with atmospheric composition, such as the presence of CO2 and O2.** [Accuracy: 5/5]\n",
       "* **The method can also be used to estimate the ratio of O2 to CO2 in an exoplanet's atmosphere.** [Accuracy: 5/5]\n",
       "* **The authors test MASC by analyzing an unknown spectrum, accurately identifying it as a dry O2 atmosphere similar to Earth's.** [Accuracy: 5/5]\n",
       "* **The study concludes that MASC shows promise as a new method for characterizing exoplanet atmospheres, especially with future advancements in telescope technology.** [Accuracy: 5/5] \n",
       "\n",
       "**Doubtful bullet points:**\n",
       "\n",
       "* **MASC focuses on identifying patterns in spectral features without relying on specific molecular signatures.** [Accuracy: 3/5]  The paper states it's \"agnostic\" but does analyze specific molecules like CO2 and O2 in its correlations. \n",
       "* **The method was tested with different resolutions, and it was found that a resolving power of R∼similar-to\\sim∼300 is necessary for useful results.** [Accuracy: 3/5] While the paper mentions testing at different resolutions, it doesn't explicitly state that R∼similar-to\\sim∼300 is the \"necessary\" resolution. \n",
       "\n",
       "\n",
       "**Confidence score:** 85%\n",
       "\n",
       "**Reason:** The summary accurately reflects the main points of the paper, including the method, its application, and the results. However, the two statements concerning the method's focus and the \"necessary\" resolution are somewhat inaccurate, implying a stronger statement than the paper provides. \n"
      ],
      "text/plain": [
       "<IPython.core.display.Markdown object>"
      ]
     },
     "metadata": {},
     "output_type": "display_data"
    },
    {
     "name": "stdout",
     "output_type": "stream",
     "text": [
      "================================================================================\n"
     ]
    }
   ],
   "source": [
    "import summarAIzer as sa\n",
    "\n",
    "field='exoplanet'\n",
    "optional_keywords=['demographics']\n",
    "sa.main(field,\n",
    "        optional_keywords, \n",
    "        max_results=1, \n",
    "        used_model='gemini-1.5-flash', # choose your model\n",
    "        API_KEY=None, # Get your API key from https://aistudio.google.com/app/apikey\n",
    "        )"
   ]
  }
 ],
 "metadata": {
  "kernelspec": {
   "display_name": "base",
   "language": "python",
   "name": "python3"
  },
  "language_info": {
   "codemirror_mode": {
    "name": "ipython",
    "version": 3
   },
   "file_extension": ".py",
   "mimetype": "text/x-python",
   "name": "python",
   "nbconvert_exporter": "python",
   "pygments_lexer": "ipython3",
   "version": "3.12.2"
  }
 },
 "nbformat": 4,
 "nbformat_minor": 2
}
