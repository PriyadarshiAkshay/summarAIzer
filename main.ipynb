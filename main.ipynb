{
 "cells": [
  {
   "cell_type": "code",
   "execution_count": 1,
   "metadata": {},
   "outputs": [
    {
     "name": "stderr",
     "output_type": "stream",
     "text": [
      "/home/a/miniconda3/lib/python3.12/site-packages/tqdm/auto.py:21: TqdmWarning: IProgress not found. Please update jupyter and ipywidgets. See https://ipywidgets.readthedocs.io/en/stable/user_install.html\n",
      "  from .autonotebook import tqdm as notebook_tqdm\n",
      "2024-10-22 10:25:53,198 - INFO - Using model gemini-1.5-flash\n",
      "2024-10-22 10:25:53,198 - INFO - Requesting page (first: True, try: 0): https://export.arxiv.org/api/query?search_query=exoplanet+AND+%28demographics%29&id_list=&sortBy=submittedDate&sortOrder=descending&start=0&max_results=100\n",
      "2024-10-22 10:25:54,708 - INFO - Got first page: 100 of 122 total results\n",
      "2024-10-22 10:25:54,709 - INFO - Processing paper: Estimating Exoplanet Mass using Machine Learning on Incomplete Datasets\n",
      "WARNING: All log messages before absl::InitializeLog() is called are written to STDERR\n",
      "I0000 00:00:1729589154.811375    7939 config.cc:230] gRPC experiments enabled: call_status_override_on_cancellation, event_engine_dns, event_engine_listener, http2_stats_fix, monitoring_experiment, pick_first_new, trace_record_callops, work_serializer_clears_time_cache\n"
     ]
    },
    {
     "name": "stdout",
     "output_type": "stream",
     "text": [
      "Title: Estimating Exoplanet Mass using Machine Learning on Incomplete Datasets\n",
      "Authors: Florian Lalande, Elizabeth Tasker, Kenji Doya\n",
      "--------------------------------------------------------------------------------\n"
     ]
    },
    {
     "name": "stderr",
     "output_type": "stream",
     "text": [
      "2024-10-22 10:26:10,022 - INFO - Processing paper: Ages of Stars and Planets in the Kepler Field Younger Than Four Billion Years\n"
     ]
    },
    {
     "name": "stdout",
     "output_type": "stream",
     "text": [
      "Here is a summary of the provided paper in 10 bullet points:   * **The exoplanet\n",
      "archive is a rich resource for studying extrasolar planets, but statistical\n",
      "analysis is hindered by the high number of missing values.** [Abstract]  *\n",
      "**Planet mass, a crucial property for understanding planet environments, is\n",
      "particularly challenging to measure.** [Abstract] * **The paper investigates the\n",
      "effectiveness of five machine learning algorithms for imputing missing planet\n",
      "mass values in the exoplanet archive.** [Abstract] * **The algorithms are tested\n",
      "using three datasets: a complete dataset with 550 planets, a full archive\n",
      "dataset with 5,243 planets (including Solar System planets) with incomplete\n",
      "properties, and an extended dataset with 8 properties including orbital\n",
      "eccentricity and stellar metallicity.** [Section 2] * **The <math alttext=\"k\"\n",
      "class=\"ltx_Math\" display=\"inline\"><semantics><mi>k</mi><annotation-xml\n",
      "encoding=\"MathML-Content\"><ci>𝑘</ci></annotation-xml><annotation\n",
      "encoding=\"application/x-tex\">k</annotation><annotation encoding=\"application/x-\n",
      "llamapun\">italic_k</annotation></semantics></math>NN<math alttext=\"\\times\"\n",
      "class=\"ltx_Math\" display=\"inline\"><semantics><mo>×</mo><annotation-xml\n",
      "encoding=\"MathML-Content\"><times></times></annotation-xml><annotation\n",
      "encoding=\"application/x-tex\">\\times</annotation><annotation\n",
      "encoding=\"application/x-llamapun\">×</annotation></semantics></math>KDE\n",
      "algorithm, which outputs a probability distribution for the imputed property, is\n",
      "found to be the most effective.** [Abstract] * **The <math alttext=\"k\"\n",
      "class=\"ltx_Math\" display=\"inline\"><semantics><mi>k</mi><annotation-xml\n",
      "encoding=\"MathML-Content\"><ci>𝑘</ci></annotation-xml><annotation\n",
      "encoding=\"application/x-tex\">k</annotation><annotation encoding=\"application/x-\n",
      "llamapun\">italic_k</annotation></semantics></math>NN<math alttext=\"\\times\"\n",
      "class=\"ltx_Math\" display=\"inline\"><semantics><mo>×</mo><annotation-xml\n",
      "encoding=\"MathML-Content\"><times></times></annotation-xml><annotation\n",
      "encoding=\"application/x-tex\">\\times</annotation><annotation\n",
      "encoding=\"application/x-llamapun\">×</annotation></semantics></math>KDE algorithm\n",
      "can be combined with radial velocity measurements of minimum mass to refine mass\n",
      "estimations.** [Section 3] * **The study finds that imputation results improve\n",
      "with larger datasets, even if they are incomplete.** [Abstract] * **The <math\n",
      "alttext=\"k\" class=\"ltx_Math\" display=\"inline\"><semantics><mi>k</mi><annotation-\n",
      "xml encoding=\"MathML-Content\"><ci>𝑘</ci></annotation-xml><annotation\n",
      "encoding=\"application/x-tex\">k</annotation><annotation encoding=\"application/x-\n",
      "llamapun\">italic_k</annotation></semantics></math>NN<math alttext=\"\\times\"\n",
      "class=\"ltx_Math\" display=\"inline\"><semantics><mo>×</mo><annotation-xml\n",
      "encoding=\"MathML-Content\"><times></times></annotation-xml><annotation\n",
      "encoding=\"application/x-tex\">\\times</annotation><annotation\n",
      "encoding=\"application/x-llamapun\">×</annotation></semantics></math>KDE algorithm\n",
      "can be used as a generative model to create a synthetic population of planets\n",
      "with complete properties, allowing for exploration of planet demographics in a\n",
      "multidimensional space.** [Section 5] * **The analysis of the synthetic planet\n",
      "population suggests potential planet categories based on their multidimensional\n",
      "properties.** [Section 5] * **The study highlights the value of including\n",
      "incomplete data from various detection methods and the importance of using\n",
      "weighted neighbor schemes in probability density estimation for more accurate\n",
      "and informative imputations.** [Section 4.2 and 4.3]   [self-reviewed]\n",
      "================================================================================\n",
      "Title: Ages of Stars and Planets in the Kepler Field Younger Than Four Billion Years\n",
      "Authors: Luke G. Bouma, Lynne A. Hillenbrand, Andrew W. Howard, Howard Isaacson, Kento\n",
      "Masuda, Elsa K. Palumbo\n",
      "--------------------------------------------------------------------------------\n"
     ]
    },
    {
     "name": "stderr",
     "output_type": "stream",
     "text": [
      "2024-10-22 10:26:37,572 - INFO - Processing paper: sunset: A database of synthetic atmospheric-escape transmission spectra for nearly every transiting planet\n"
     ]
    },
    {
     "name": "stdout",
     "output_type": "stream",
     "text": [
      "Here is a 10-bullet point summary of the provided paper, citing sources:  - The\n",
      "paper investigates the ages of stars and planets in the Kepler field, focusing\n",
      "on those younger than four billion years. [Abstract] - The study utilizes\n",
      "rotation periods from previous work by Santos et al. (2019, 2021) and lithium\n",
      "measurements from new and archival Keck/HIRES spectra. [Abstract, Section 2] -\n",
      "The paper reports rotation-based ages for 23,813 stars, including 795 known\n",
      "planets, for which the method is applicable. [Abstract, Section 4] - The\n",
      "rotational ages obtained agree with the ages of stars in open clusters spanning\n",
      "0.04-2.5 Gyr and with over 90% of independent lithium ages. [Abstract, Section\n",
      "4, Section 6] - The analysis reveals that the age distribution of Kepler stars\n",
      "and their planet hosts exhibits a \"demographic cliff,\" with a paucity of young\n",
      "stars and planets compared to a uniform age distribution. [Abstract, Section 7]\n",
      "- The study identifies 63 planets younger than 1 Gyr at 2σ significance and 109\n",
      "with median ages below 1 Gyr, about half the number expected based on a uniform\n",
      "star formation history. [Abstract, Section 7] - The paper examines 14 planets in\n",
      "known open clusters and finds that their rotation and lithium ages consistently\n",
      "reflect the cluster ages. [Section 7.2.1] - The study includes 18 confirmed\n",
      "planets younger than 1 Gyr with two-sided gyrochrone and lithium ages and 37\n",
      "confirmed planets with comparable ages, highlighting the expansion of the young\n",
      "exoplanet census. [Section 7.2.3, Figure 7] - The paper discusses caveats and\n",
      "limitations of the age-dating methods, particularly the potential influence of\n",
      "unresolved binaries. [Section 8.2, Figure 9] - The study highlights future\n",
      "directions for exoplanet age research, including exploring age-dependent trends\n",
      "in planet populations, expanding the age-dating scope to other surveys, and\n",
      "searching for new stellar associations. [Section 8.3]   [self-reviewed]\n",
      "================================================================================\n",
      "Title: sunset: A database of synthetic atmospheric-escape transmission spectra for nearly every transiting planet\n",
      "Authors: Dion Linssen, Antonija Oklopčić, Morgan MacLeod\n",
      "--------------------------------------------------------------------------------\n"
     ]
    },
    {
     "name": "stderr",
     "output_type": "stream",
     "text": [
      "2024-10-22 10:26:50,165 - INFO - Processing paper: Exoplanet Demographics: Physical and Orbital Properties\n"
     ]
    },
    {
     "name": "stdout",
     "output_type": "stream",
     "text": [
      "Here is a summary of the paper in 10 bullet points:  * **Atmospheric escape from\n",
      "exoplanets offers crucial insights into their formation and evolution,\n",
      "particularly for planets close to their host stars.** [Source: Section 1,\n",
      "Paragraph 1] * **Observations of atmospheric escape have been made through\n",
      "transit spectroscopy of various atomic species, with the metastable helium\n",
      "triplet becoming increasingly popular.** [Source: Section 1, Paragraph 2] *\n",
      "**This work aims to identify the best targets for observations of multiple\n",
      "spectral lines associated with atmospheric escape, using the atmospheric escape\n",
      "code sunbather to create a database of synthetic transmission spectra for nearly\n",
      "every known transiting exoplanet.** [Source: Section 1, Paragraph 4] * **The\n",
      "database, named sunset, is publicly available and includes nearly every known\n",
      "transiting exoplanet with reported values for planetary mass, radius, semi-major\n",
      "axis, and stellar mass and radius.** [Source: Section 2.1, Paragraph 1] * **The\n",
      "stellar SED templates used in the simulations come mainly from the MUSCLES\n",
      "survey and are selected based on the closest spectral type or effective\n",
      "temperature of the host star.** [Source: Section 2.2, Paragraph 1] * **The mass-\n",
      "loss rate is determined using an analytical approximation derived from a grid of\n",
      "photoevaporation models, which accounts for the planet's gravitational\n",
      "potential, XUV flux, and other factors.** [Source: Section 2.3, Paragraph 2] *\n",
      "**The temperature is determined iteratively through a self-consistency check,\n",
      "ensuring that the input temperature matches the maximum temperature of the\n",
      "nonisothermal profile calculated by the code.** [Source: Section 2.3, Paragraph\n",
      "3] * **A solar composition is assumed for all planets, as the mass-loss rate\n",
      "predictions from ATES are based on hydrogen-helium only simulations.** [Source:\n",
      "Section 2.3, Paragraph 5] * **The synthetic spectra are calculated at mid-\n",
      "transit and include spectral lines from the 30 lightest elements.** [Source:\n",
      "Section 2.4, Paragraph 1] * **Many spectral line strengths, including the\n",
      "metastable helium triplet, do not correlate strongly with the atmospheric mass-\n",
      "loss rate, suggesting that a nondetection does not necessarily rule out an\n",
      "escaping atmosphere.** [Source: Section 3.2, Paragraph 2]  [self-reviewed]\n",
      "================================================================================\n",
      "Title: Exoplanet Demographics: Physical and Orbital Properties\n",
      "Authors: Ryan Cloutier\n",
      "--------------------------------------------------------------------------------\n"
     ]
    },
    {
     "name": "stderr",
     "output_type": "stream",
     "text": [
      "2024-10-22 10:26:50,981 - ERROR - Failed to generate summary: 429 Resource has been exhausted (e.g. check quota).\n",
      "2024-10-22 10:26:50,982 - INFO - Processing paper: Characterisation of TOI-406 as showcase of the THIRSTEE program: A 2-planet system straddling the M-dwarf density gap\n"
     ]
    },
    {
     "name": "stdout",
     "output_type": "stream",
     "text": [
      "None\n",
      "================================================================================\n",
      "Title: Characterisation of TOI-406 as showcase of the THIRSTEE program: A 2-planet system straddling the M-dwarf density gap\n",
      "Authors: G. Lacedelli, E. Pallè, R. Luque, C. Cadieux, J. M. Akana Murphy, F. Murgas, M.\n",
      "R. Zapatero Osorio, H. M. Tabernero, K. A. Collins, C. N. Watkins, A. L'Heureux,\n",
      "R. Doyon, D. Jankowski, G. Nowak, È. Artigau, N. M. Batalha, J. L. Bean, F.\n",
      "Bouchy, M. Brady, B. L. Canto Martins, I. Carleo, M. Cointepas, D. M. Conti, N.\n",
      "J. Cook, I. J. M. Crossfield, J. I. Gonzàlez Hernàndez, P. Lewin, N. Nari, L. D.\n",
      "Nielsen, J. Orell-Miquel, L. Parc, R. P. Schwarz, G. Srdoc, V. Van Eylen\n",
      "--------------------------------------------------------------------------------\n"
     ]
    },
    {
     "name": "stderr",
     "output_type": "stream",
     "text": [
      "2024-10-22 10:26:51,901 - ERROR - Failed to generate summary: 429 Resource has been exhausted (e.g. check quota).\n"
     ]
    },
    {
     "name": "stdout",
     "output_type": "stream",
     "text": [
      "None\n",
      "================================================================================\n"
     ]
    }
   ],
   "source": [
    "import summarAIzer as sa\n",
    "\n",
    "keywords=['demographics']\n",
    "sa.main(keywords, \n",
    "        max_results=5, \n",
    "        used_model='gemini-1.5-flash', # choose your model\n",
    "        API_KEY=None, # Get your API key from https://aistudio.google.com/app/apikey\n",
    "        )"
   ]
  },
  {
   "cell_type": "code",
   "execution_count": null,
   "metadata": {},
   "outputs": [],
   "source": []
  }
 ],
 "metadata": {
  "kernelspec": {
   "display_name": "base",
   "language": "python",
   "name": "python3"
  },
  "language_info": {
   "codemirror_mode": {
    "name": "ipython",
    "version": 3
   },
   "file_extension": ".py",
   "mimetype": "text/x-python",
   "name": "python",
   "nbconvert_exporter": "python",
   "pygments_lexer": "ipython3",
   "version": "3.12.2"
  }
 },
 "nbformat": 4,
 "nbformat_minor": 2
}
