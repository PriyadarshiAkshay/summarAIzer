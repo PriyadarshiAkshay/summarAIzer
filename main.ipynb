{
 "cells": [
  {
   "cell_type": "code",
   "execution_count": 1,
   "metadata": {},
   "outputs": [
    {
     "name": "stderr",
     "output_type": "stream",
     "text": [
      "/home/a/miniconda3/lib/python3.12/site-packages/tqdm/auto.py:21: TqdmWarning: IProgress not found. Please update jupyter and ipywidgets. See https://ipywidgets.readthedocs.io/en/stable/user_install.html\n",
      "  from .autonotebook import tqdm as notebook_tqdm\n",
      "2024-10-28 21:43:47,885 - INFO - Requesting page (first: True, try: 0): https://export.arxiv.org/api/query?search_query=exoplanet+AND+%28demographics%29&id_list=&sortBy=submittedDate&sortOrder=descending&start=0&max_results=100\n",
      "2024-10-28 21:43:50,088 - INFO - Got first page: 100 of 123 total results\n",
      "2024-10-28 21:43:50,092 - INFO - Using model gemini-1.5-flash\n",
      "2024-10-28 21:43:50,096 - INFO - Processing paper: Reading Between the Rainbows: Comparative Exoplanet Characterisation through Molecule Agnostic Spectral Clustering\n"
     ]
    },
    {
     "name": "stdout",
     "output_type": "stream",
     "text": [
      "Found 1 papers.\n",
      "Title: Reading Between the Rainbows: Comparative Exoplanet Characterisation through Molecule Agnostic Spectral Clustering\n",
      "Authors: Ilyana A. Guez, Mark Claire\n",
      "--------------------------------------------------------------------------------\n"
     ]
    },
    {
     "name": "stderr",
     "output_type": "stream",
     "text": [
      "WARNING: All log messages before absl::InitializeLog() is called are written to STDERR\n",
      "I0000 00:00:1730151830.792167   15831 config.cc:230] gRPC experiments enabled: call_status_override_on_cancellation, event_engine_dns, event_engine_listener, http2_stats_fix, monitoring_experiment, pick_first_new, trace_record_callops, work_serializer_clears_time_cache\n"
     ]
    },
    {
     "data": {
      "text/markdown": [
       "## Summary Analysis: \n",
       "\n",
       "**Reasonably supported bullet points:**\n",
       "\n",
       "* **The paper presents a new method for characterizing exoplanet atmospheres called \"Molecule Agnostic Spectral Clustering\" (MASC).** [Accuracy: 5/5]\n",
       "* **The study uses 42 synthetic transit transmission spectra from the Virtual Planetary Laboratory Spectral Explorer (VPLSE).** [Accuracy: 5/5]\n",
       "* **The spectra are divided into bands, and the enclosed areas within these bands are compared to find patterns.** [Accuracy: 5/5]\n",
       "* **The HDBSCAN clustering algorithm is used to identify clusters in the data based on density.** [Accuracy: 5/5]\n",
       "* **The method was tested with different resolutions, and it was found that a resolving power of R∼similar-to\\sim∼300 is necessary for useful results.** [Accuracy: 5/5]\n",
       "* **MASC successfully identifies clusters that correlate with atmospheric composition, such as the presence of CO2 and O2.** [Accuracy: 5/5]\n",
       "* **The method can also be used to estimate the ratio of O2 to CO2 in an exoplanet's atmosphere.** [Accuracy: 5/5]\n",
       "* **The authors test MASC by analyzing an unknown spectrum, accurately identifying it as a dry O2 atmosphere similar to Earth's.** [Accuracy: 5/5]\n",
       "* **The study concludes that MASC shows promise as a new method for characterizing exoplanet atmospheres, especially with future advancements in telescope technology.** [Accuracy: 5/5] \n",
       "\n",
       "**Doubtful bullet points:**\n",
       "\n",
       "* **MASC focuses on identifying patterns in spectral features without relying on specific molecular signatures.** [Accuracy: 3/5]  The paper states it's \"agnostic\" but does analyze specific molecules like CO2 and O2 in its correlations. \n",
       "* **The method was tested with different resolutions, and it was found that a resolving power of R∼similar-to\\sim∼300 is necessary for useful results.** [Accuracy: 3/5] While the paper mentions testing at different resolutions, it doesn't explicitly state that R∼similar-to\\sim∼300 is the \"necessary\" resolution. \n",
       "\n",
       "\n",
       "**Confidence score:** 85%\n",
       "\n",
       "**Reason:** The summary accurately reflects the main points of the paper, including the method, its application, and the results. However, the two statements concerning the method's focus and the \"necessary\" resolution are somewhat inaccurate, implying a stronger statement than the paper provides. \n"
      ],
      "text/plain": [
       "<IPython.core.display.Markdown object>"
      ]
     },
     "metadata": {},
     "output_type": "display_data"
    },
    {
     "name": "stdout",
     "output_type": "stream",
     "text": [
      "================================================================================\n"
     ]
    }
   ],
   "source": [
    "import summarAIzer as sa\n",
    "\n",
    "field='exoplanet'\n",
    "optional_keywords=['demographics']\n",
    "sa.main(field,\n",
    "        optional_keywords, \n",
    "        max_results=1, \n",
    "        used_model='gemini-1.5-flash', # choose your model\n",
    "        API_KEY=None, # Get your API key from https://aistudio.google.com/app/apikey\n",
    "        )"
   ]
  },
  {
   "cell_type": "code",
   "execution_count": 1,
   "metadata": {},
   "outputs": [
    {
     "name": "stderr",
     "output_type": "stream",
     "text": [
      "/home/a/miniconda3/lib/python3.12/site-packages/tqdm/auto.py:21: TqdmWarning: IProgress not found. Please update jupyter and ipywidgets. See https://ipywidgets.readthedocs.io/en/stable/user_install.html\n",
      "  from .autonotebook import tqdm as notebook_tqdm\n",
      "2024-10-29 15:54:40,327 - INFO - Using model gemini-1.5-flash\n",
      "WARNING: All log messages before absl::InitializeLog() is called are written to STDERR\n",
      "I0000 00:00:1730217281.105812   31325 config.cc:230] gRPC experiments enabled: call_status_override_on_cancellation, event_engine_dns, event_engine_listener, http2_stats_fix, monitoring_experiment, pick_first_new, trace_record_callops, work_serializer_clears_time_cache\n"
     ]
    },
    {
     "data": {
      "text/markdown": [
       "## TransitFit Summary Analysis:\n",
       "\n",
       "**Reasonably Supported Bullet Points (Accuracy Score 4-5):**\n",
       "\n",
       "* **TransitFit is an open-source Python package designed to fit exoplanetary transit light curves.** (Accuracy: 5) -  The paper explicitly states \"We present TransitFit, an open-source Python 3 package for robust multi-wavelength, multi-epoch fitting of transiting exoplanet light curves obtained from one or more telescopes.\"\n",
       "* **TransitFit can fit transit parameters simultaneously across multiple wavelengths and epochs from various telescopes.** (Accuracy: 5) - The paper emphasizes its design for \"multi-wavelength, multi-epoch fitting\" and highlights its use with \"transit observations at different wavelengths and epochs from different telescopes simultaneously\".\n",
       "* **TransitFit uses the batman package to calculate transit light curves and the dynesty package for nested sampling retrieval.** (Accuracy: 5) -  The text confirms \"The forward model used to calculate transit light curves in TransitFit is the batman Python package\" and \"Retrieval is conducted using nested sampling routines implemented with the dynesty Python package\".\n",
       "* **TransitFit utilizes the LimbDarkeningToolkit (LDTk) to inform limb-darkening coefficient (LDC) fitting, incorporating information about the host star and filter profiles.** (Accuracy: 5) -  The paper details \"TransitFit uses the LimbDarkeningToolkit (LDTk) to calculate the likelihood of sets of limb-darkening coefficients given planet host characteristics and the wavelength of observations\" and further emphasizes \"This allows limb darkening priors to be constructed that tension (though not fix) the wavelength-dependent behaviour of limb darkening in accordance with the Phoenix stellar atmosphere models\".\n",
       "* **TransitFit offers three modes for LDC fitting: independent, coupled, and single filter, allowing for flexibility in fitting LDCs.** (Accuracy: 5) - The text outlines three distinct modes: \"Independent\", \"Coupled\", and \"Single filter\", which allow for different approaches to fitting LDCs.\n",
       "* **TransitFit includes functionality for simultaneous detrending and normalization of light curves using user-defined or built-in depth-conserving detrending functions.** (Accuracy: 5) -  The paper explains that \"TransitFit offers functionality to simultaneously detrend and normalise light curves during retrieval. Built into the package are depth-conserving, 𝑛-th order detrending functions, and the user can supply their own custom functions if more complicated detrending is required.\"\n",
       "* **TransitFit can handle systems exhibiting transit timing variations (TTVs) by fitting separate 𝑡0 values for each epoch and using phase-folded light curves.** (Accuracy: 5) - The paper addresses TTVs by stating: \"In the event that a system does exhibit TTVs, this method will fail to produce an accurate result. Consequently, in these cases, TransitFit takes a slightly different approach\" and goes on to explain the fitting of separate 𝑡0 values for each epoch. \n",
       "* **To address the challenge of fitting large datasets with many parameters, TransitFit implements a \"batched\" retrieval mode that splits the data into manageable batches.** (Accuracy: 5) - The paper describes the \"batched\" mode, stating: \"Since TransitFit is anticipated to be used in transmission spectroscopy studies, where many tens, or even hundreds of light curves may need to be fitted, we have provided a solution to this in the form of “batched” retrieval.\"\n",
       "* **TransitFit also includes a \"folded\" retrieval mode for efficiently combining observations from different sources, like TESS and ground-based follow-ups.** (Accuracy: 4) -  The paper mentions the \"folded\" mode, stating: \"This mode of retrieval allows for the production of high-quality folded light curves from non-detrended data, as well as providing a method where observations from long-term, single-waveband surveys such as TESS can be easily combined with single-epoch observations at multiple wavelengths, such as from ground-based spectrographic follow-up.\" While this doesn't explicitly mention TESS and ground-based follow-ups, the example given aligns with the bullet point's intent. \n",
       "\n",
       "**Doubtful Bullet Points (Accuracy Score 1-3):**\n",
       "\n",
       "* **The paper demonstrates TransitFit's effectiveness in various scenarios, including multi-telescope observations of WASP-127 b, multi-epoch TESS studies of WASP-91 b and WASP-126 b, HST observations of WASP-43 b, and combined JWST and HST observations of WASP-96 b.** (Accuracy: 3) - While the paper does analyze these specific scenarios to illustrate TransitFit's capabilities, the focus is on demonstrating specific features rather than a comprehensive evaluation of its effectiveness across various scenarios.  It's not a definitive \"demonstration\" but rather examples of application.\n",
       "\n",
       "**Confidence Score: 85%**\n",
       "\n",
       "The summary accurately captures the core functionalities and features of the TransitFit package, as presented in the original paper. The only significant reservation is the final bullet point, which overstates the paper's scope in terms of demonstrating TransitFit's effectiveness across all mentioned scenarios.  \n",
       "\n",
       "**Output Summary:**\n",
       "\n",
       "This summary accurately represents the key functionalities and features of the TransitFit package as presented in the original paper.  While the paper includes specific examples of application, it may be more accurate to describe them as demonstrations of the package's capabilities rather than comprehensive evaluations of its effectiveness in those scenarios. \n"
      ],
      "text/plain": [
       "<IPython.core.display.Markdown object>"
      ]
     },
     "metadata": {},
     "output_type": "display_data"
    },
    {
     "name": "stdout",
     "output_type": "stream",
     "text": [
      "================================================================================\n"
     ]
    }
   ],
   "source": [
    "import summarAIzer as sa\n",
    "\n",
    "url='https://arxiv.org/pdf/2103.12139'\n",
    "sa.summarize_from_url(url,base_query='exoplanets', used_model='gemini-1.5-flash', API_KEY=None)"
   ]
  },
  {
   "cell_type": "code",
   "execution_count": null,
   "metadata": {},
   "outputs": [],
   "source": []
  }
 ],
 "metadata": {
  "kernelspec": {
   "display_name": "base",
   "language": "python",
   "name": "python3"
  },
  "language_info": {
   "codemirror_mode": {
    "name": "ipython",
    "version": 3
   },
   "file_extension": ".py",
   "mimetype": "text/x-python",
   "name": "python",
   "nbconvert_exporter": "python",
   "pygments_lexer": "ipython3",
   "version": "3.12.2"
  }
 },
 "nbformat": 4,
 "nbformat_minor": 2
}
